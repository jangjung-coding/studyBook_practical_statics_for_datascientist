{
  "nbformat": 4,
  "nbformat_minor": 0,
  "metadata": {
    "colab": {
      "provenance": [],
      "authorship_tag": "ABX9TyMvD0X1xnS3m/qJuJYMFC2P",
      "include_colab_link": true
    },
    "kernelspec": {
      "name": "python3",
      "display_name": "Python 3"
    },
    "language_info": {
      "name": "python"
    }
  },
  "cells": [
    {
      "cell_type": "markdown",
      "metadata": {
        "id": "view-in-github",
        "colab_type": "text"
      },
      "source": [
        "<a href=\"https://colab.research.google.com/github/jangjung-coding/studyBook_practical_statics_for_datascientist/blob/main/Chapter2_Data_and_sampling_distributions.ipynb\" target=\"_parent\"><img src=\"https://colab.research.google.com/assets/colab-badge.svg\" alt=\"Open In Colab\"/></a>"
      ]
    },
    {
      "cell_type": "markdown",
      "source": [
        "본 노트북은 'Practical Statistisc for Data Scientist'의 책 중 2장을 공부한 내용을 담고 있다."
      ],
      "metadata": {
        "id": "88i2THAwJkR4"
      }
    },
    {
      "cell_type": "markdown",
      "source": [
        "**용어 정리**\n",
        "- 수치형: 숫자를 이용해 표현할 수 있는 데이터\n",
        "- 연속형: 일정 범위 안에서 어떤 값이든 취할 수 있는 데이터(유의어: 구간형, 실수형, 수치형 데이터)\n",
        "- 이산: 횟수와 같은 정수 값만 취할 수 있는 데이터(유의어: 정수형, 회수 데이터)\n",
        "- 범주형: 가능한 범주 안의 값만을 취하는 데이터(유의어: 목록, 열거, 요인, 명목, 다항)\n",
        "- 이진: 두개의 값(0/1)만을 갖는 범주형 데이터의 특수한 경우(유의어: 이향적, 논리형, 지표, 불리언 데이터)\n",
        "- 순서형: 값들 사이에 분명한 순위가 있는 범주형 데이터(유의어: 정렬된 요인 데이터, 서수형)"
      ],
      "metadata": {
        "id": "WW4KsqtFJ4Mm"
      }
    },
    {
      "cell_type": "code",
      "source": [
        "!pip install wquantiles"
      ],
      "metadata": {
        "colab": {
          "base_uri": "https://localhost:8080/"
        },
        "id": "zm7wAOG6x-08",
        "outputId": "e8ef7d79-d3f1-4519-ae6b-020994117d7c"
      },
      "execution_count": 5,
      "outputs": [
        {
          "output_type": "stream",
          "name": "stdout",
          "text": [
            "Requirement already satisfied: wquantiles in /usr/local/lib/python3.10/dist-packages (0.6)\n",
            "Requirement already satisfied: numpy>=1.18 in /usr/local/lib/python3.10/dist-packages (from wquantiles) (1.26.4)\n"
          ]
        }
      ]
    },
    {
      "cell_type": "code",
      "source": [
        "%matplotlib inline\n",
        "\n",
        "from pathlib import Path\n",
        "import pandas as pd\n",
        "import numpy as np\n",
        "from scipy import stats\n",
        "from sklearn.utils import resample\n",
        "\n",
        "import seaborn as sns\n",
        "import matplotlib.pylab as plt"
      ],
      "metadata": {
        "id": "rpa41fMwxTzn"
      },
      "execution_count": 7,
      "outputs": []
    },
    {
      "cell_type": "code",
      "source": [
        "cd /content/drive/MyDrive/[책]Practical Statistics for Data Sientist"
      ],
      "metadata": {
        "colab": {
          "base_uri": "https://localhost:8080/"
        },
        "id": "krB4EV3REnJe",
        "outputId": "bcb5da72-18c5-4ab2-a208-8df399f87cb4"
      },
      "execution_count": 8,
      "outputs": [
        {
          "output_type": "stream",
          "name": "stdout",
          "text": [
            "[Errno 2] No such file or directory: '/content/drive/MyDrive/[책]Practical Statistics for Data Sientist'\n",
            "/content\n"
          ]
        }
      ]
    },
    {
      "cell_type": "code",
      "source": [
        "try:\n",
        "    import common  # common 모듈을 임포트 시도\n",
        "    DATA = common.dataDirectory()  # common 모듈의 dataDirectory 함수를 호출하여 Data 변수에 할당\n",
        "except ImportError:  # 만약 common 모듈이 없을 경우\n",
        "    from pathlib import Path  # pathlib 모듈에서 Path 클래스를 임포트\n",
        "    DATA = Path().resolve() / 'data'  # 현재 디렉토리의 'data' 폴더 경로를 Data 변수에 할당"
      ],
      "metadata": {
        "id": "2mx5oVgaxzBi"
      },
      "execution_count": 11,
      "outputs": []
    },
    {
      "cell_type": "code",
      "source": [
        "LOANS_INCOME_CSV = DATA / 'loans_income.csv'\n",
        "SP500_DATA_CSV = DATA / 'sp500_data.csv.gz'"
      ],
      "metadata": {
        "id": "6pSVOdWNzEVp"
      },
      "execution_count": 12,
      "outputs": []
    },
    {
      "cell_type": "markdown",
      "source": [
        "샘플 기반의 추정이나 모델링에서 데이터 품질은 데이터 양보다 더욱 중요하다.\n",
        "\n",
        "**용어 정리**\n",
        "- 표본 : 더 큰 데이터 집합으로부터 얻은 부분집합\n",
        "- 모집단 : 어떤 데이터 집합을 구성하는 전체 대상 혹은 전체 집합\n",
        "- 임의표본추출(임의표집, 랜덤표본추출) : 무작위로 표본을 추출하는 것\n",
        "- 층화표본추출(층화표집) : 모집단을 층으로 나눈 뒤, 각 층에서 무작위로 표본을 추출하는 것\n",
        "- 계층 : 공동된 특징을 가진 모집단의 동종 하위 그룹(복수형은 strata)\n",
        "- 단순임의표본(단순랜덤표본) : 모집단 층화 없이 임의표본추출로 얻은 표본\n",
        "- 편향 : 계통상의 오류\n",
        "- 표본편향 : 모집단을 잘못 대표하는 표본"
      ],
      "metadata": {
        "id": "eyNe8yCKq1aO"
      }
    },
    {
      "cell_type": "markdown",
      "source": [
        "**자기선택 표본편향**\n",
        "\n",
        "엘프(Yelp)와 같은 소셜 미디어 사이트에서 보는 레스토랑, 호텔, 카페 등에 대한 리뷰는 이를 작성하는 사람들이 무작위로 선택되지 않았기 때문에 편향되기 쉽다. 오히려 작성자 스스로 리뷰 작성에 대한 주도권을 쥐고 있다. 이는 자기선택편향으로 연결된다. 리뷰를 남기고자 하는 사람들은 시설에 대한 안 좋은 경험이 있거나, 해당 시설과 관련이 있거나, 리뷰를 남기지 않는 보통 사람들과는 뭔가 다른 유형의 사람일 가능성이 높다. 이와 같은 자기 선택 표본은 상황을 정확히 파악하기 위한 지표로는 사용하기 어려울 수 있지만, 어떤 시설을 비슷한 시설과 단순 비교할 때는 오히려 더 신뢰할 만하다. 비슷한 자기선택편향이 각각의 경우에 똑같이 적용될 수 있기 때문이다."
      ],
      "metadata": {
        "id": "ecrtcE5LsBB5"
      }
    },
    {
      "cell_type": "code",
      "source": [],
      "metadata": {
        "id": "ZHFsu_c6pzAr"
      },
      "execution_count": null,
      "outputs": []
    }
  ]
}