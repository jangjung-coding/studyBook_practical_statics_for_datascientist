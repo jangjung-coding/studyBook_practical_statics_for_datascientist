{
  "nbformat": 4,
  "nbformat_minor": 0,
  "metadata": {
    "colab": {
      "provenance": [],
      "mount_file_id": "1e6Z5LbhkUm2USZu2Ri66IWdxcugEaHzM",
      "authorship_tag": "ABX9TyPnXNU8N+Y3RzPSCcsTH6LV",
      "include_colab_link": true
    },
    "kernelspec": {
      "name": "python3",
      "display_name": "Python 3"
    },
    "language_info": {
      "name": "python"
    }
  },
  "cells": [
    {
      "cell_type": "markdown",
      "metadata": {
        "id": "view-in-github",
        "colab_type": "text"
      },
      "source": [
        "<a href=\"https://colab.research.google.com/github/jangjung-coding/studyBook_practical_statics_for_datascientist/blob/main/Chapter1_Exploratory_Data_Analysis.ipynb\" target=\"_parent\"><img src=\"https://colab.research.google.com/assets/colab-badge.svg\" alt=\"Open In Colab\"/></a>"
      ]
    },
    {
      "cell_type": "markdown",
      "source": [
        "본 노트북은 'Practical Statistisc for Data Scientist'의 책 중 1장을 공부한 내용을 담고 있다."
      ],
      "metadata": {
        "id": "88i2THAwJkR4"
      }
    },
    {
      "cell_type": "markdown",
      "source": [
        "**용어 정리**\n",
        "- 수치형: 숫자를 이용해 표현할 수 있는 데이터\n",
        "- 연속형: 일정 범위 안에서 어떤 값이든 취할 수 있는 데이터(유의어: 구간형, 실수형, 수치형 데이터)\n",
        "- 이산: 횟수와 같은 정수 값만 취할 수 있는 데이터(유의어: 정수형, 회수 데이터)\n",
        "- 범주형: 가능한 범주 안의 값만을 취하는 데이터(유의어: 목록, 열거, 요인, 명목, 다항)\n",
        "- 이진: 두개의 값(0/1)만을 갖는 범주형 데이터의 특수한 경우(유의어: 이향적, 논리형, 지표, 불리언 데이터)\n",
        "- 순서형: 값들 사이에 분명한 순위가 있는 범주형 데이터(유의어: 정렬된 요인 데이터, 서수형)"
      ],
      "metadata": {
        "id": "WW4KsqtFJ4Mm"
      }
    },
    {
      "cell_type": "code",
      "source": [
        "!pip install wquantiles"
      ],
      "metadata": {
        "colab": {
          "base_uri": "https://localhost:8080/"
        },
        "id": "zm7wAOG6x-08",
        "outputId": "d075c939-2ed4-44f7-8d66-94bd2b697af4"
      },
      "execution_count": 1,
      "outputs": [
        {
          "output_type": "stream",
          "name": "stdout",
          "text": [
            "Collecting wquantiles\n",
            "  Downloading wquantiles-0.6-py3-none-any.whl (3.3 kB)\n",
            "Requirement already satisfied: numpy>=1.18 in /usr/local/lib/python3.10/dist-packages (from wquantiles) (1.25.2)\n",
            "Installing collected packages: wquantiles\n",
            "Successfully installed wquantiles-0.6\n"
          ]
        }
      ]
    },
    {
      "cell_type": "code",
      "source": [
        "# Import required Python packages\n",
        "from pathlib import Path\n",
        "\n",
        "import pandas as pd\n",
        "import numpy as np\n",
        "from scipy.stats import trim_mean\n",
        "from statsmodels import robust\n",
        "import wquantiles # 가중치가 있는 데이터의 분위수 계산\n",
        "\n",
        "import seaborn as sns\n",
        "import matplotlib.pyplot as plt"
      ],
      "metadata": {
        "id": "rpa41fMwxTzn"
      },
      "execution_count": 2,
      "outputs": []
    },
    {
      "cell_type": "code",
      "source": [
        "cd /content/drive/MyDrive/[책]Practical Statistics for Data Sientist"
      ],
      "metadata": {
        "colab": {
          "base_uri": "https://localhost:8080/"
        },
        "id": "krB4EV3REnJe",
        "outputId": "e1fe29e0-2630-4c32-ae67-245d9e8c456e"
      },
      "execution_count": 15,
      "outputs": [
        {
          "output_type": "stream",
          "name": "stdout",
          "text": [
            "/content/drive/MyDrive/[책]Practical Statistics for Data Sientist\n"
          ]
        }
      ]
    },
    {
      "cell_type": "code",
      "source": [
        "try:\n",
        "    import common  # common 모듈을 임포트 시도\n",
        "    Data = common.dataDirectory()  # common 모듈의 dataDirectory 함수를 호출하여 Data 변수에 할당\n",
        "except ImportError:  # 만약 common 모듈이 없을 경우\n",
        "    from pathlib import Path  # pathlib 모듈에서 Path 클래스를 임포트\n",
        "    Data = Path().resolve() / 'data'  # 현재 디렉토리의 'data' 폴더 경로를 Data 변수에 할당"
      ],
      "metadata": {
        "id": "2mx5oVgaxzBi"
      },
      "execution_count": 44,
      "outputs": []
    },
    {
      "cell_type": "code",
      "source": [
        "AIRLINE_STATS_CSV = Data / 'airline_stats.csv'\n",
        "KC_TAX_CSV = Data / 'kc_tax.csv.gz'\n",
        "LC_LOANS_CSV = Data / 'lc_loans.csv'\n",
        "AIRPORT_DELAYS_CSV = Data / 'dfw_airline.csv'\n",
        "SP500_DATA_CSV = Data / 'sp500_data.csv.gz'\n",
        "SP500_SECTORS_CSV = Data / 'sp500_sectors.csv'\n",
        "STATE_CSV = Data / 'state.csv'"
      ],
      "metadata": {
        "id": "6pSVOdWNzEVp"
      },
      "execution_count": 54,
      "outputs": []
    },
    {
      "cell_type": "markdown",
      "source": [
        "### Example: Location Esimates of Poulation and Murder Rates"
      ],
      "metadata": {
        "id": "SEBVIEWMxKIq"
      }
    },
    {
      "cell_type": "code",
      "execution_count": 19,
      "metadata": {
        "id": "ewRgS0MPJWNG",
        "colab": {
          "base_uri": "https://localhost:8080/"
        },
        "outputId": "fa8bdcff-cc89-4941-96d3-02576a9364d8"
      },
      "outputs": [
        {
          "output_type": "stream",
          "name": "stdout",
          "text": [
            "         State  Population  Murder.Rate Abbreviation\n",
            "0      Alabama     4779736          5.7           AL\n",
            "1       Alaska      710231          5.6           AK\n",
            "2      Arizona     6392017          4.7           AZ\n",
            "3     Arkansas     2915918          5.6           AR\n",
            "4   California    37253956          4.4           CA\n",
            "5     Colorado     5029196          2.8           CO\n",
            "6  Connecticut     3574097          2.4           CT\n",
            "7     Delaware      897934          5.8           DE\n"
          ]
        }
      ],
      "source": [
        "state = pd.read_csv(STATE_CSV)\n",
        "print(state.head(8))"
      ]
    },
    {
      "cell_type": "code",
      "source": [
        "print(state['Population'].mean())\n",
        "print(state['Population'].median())\n",
        "print(trim_mean(state['Population'], 0.1)) # 절사평균(trim=0.1은 각 끝에서 10%를 제외한다)"
      ],
      "metadata": {
        "colab": {
          "base_uri": "https://localhost:8080/"
        },
        "id": "_faX3AVY0hPf",
        "outputId": "cd51cbeb-fb04-4ce6-d24b-2c974417021d"
      },
      "execution_count": 20,
      "outputs": [
        {
          "output_type": "stream",
          "name": "stdout",
          "text": [
            "6162876.3\n",
            "4436369.5\n",
            "4783697.125\n"
          ]
        }
      ]
    },
    {
      "cell_type": "code",
      "source": [
        "print(state['Murder.Rate'].mean())"
      ],
      "metadata": {
        "colab": {
          "base_uri": "https://localhost:8080/"
        },
        "id": "40Tjc40u1b7c",
        "outputId": "54825996-dc6d-4e6a-fbcc-ba4942668413"
      },
      "execution_count": 21,
      "outputs": [
        {
          "output_type": "stream",
          "name": "stdout",
          "text": [
            "4.066\n"
          ]
        }
      ]
    },
    {
      "cell_type": "code",
      "source": [
        "print(np.average(state['Murder.Rate'], weights=state['Population'])) # 가중평균"
      ],
      "metadata": {
        "colab": {
          "base_uri": "https://localhost:8080/"
        },
        "id": "GmX8hLt42CWN",
        "outputId": "8c26c196-353b-4f9b-86d1-38297453ba51"
      },
      "execution_count": 22,
      "outputs": [
        {
          "output_type": "stream",
          "name": "stdout",
          "text": [
            "4.445833981123393\n"
          ]
        }
      ]
    },
    {
      "cell_type": "markdown",
      "source": [
        "**위치 추정**\n",
        "- 가장 기본적인 위치 추정 기법은 평균이다. 하지만 극단값(특잇값)에 민감할 수 있다.\n",
        "- 중간값, 절사평균과 같은 다른 방법들이 특잇값이나 이상 데이터에 덜 민감하므로 좀 더 로버스트하다."
      ],
      "metadata": {
        "id": "owpZJ1l32ZaI"
      }
    },
    {
      "cell_type": "markdown",
      "source": [
        "**자유도 n 아니면 n-1?**\n",
        "\n",
        "분산 수식에 n을 분모로 사용한다면, 모집단의 분산과 표준편차의 참값을 과소평가하게 된다. 이를 편향이라 한다. 하지만, 만약 n대신 n-1로 나눈다면, 이 분산은 비편향 추정이 된다. 왜 n을 사용하는게 편향 주청이 되는지를 설명하려면, 추정값을 계산할 때 제약 조건의 개수를 의미하는 자유도에 대해 알아야 한다. 이 경우, 표준편차는 표본의 평균에 따른다는 하나의 제약 조건을 가지고 있기 때문에 n-1의 자유도를 갖는다. 대부분의 경우 데이터 과학자들은 자유도에 크게 신경 쓰지 않아도 되지만 때로 이 개념이 중요할 때도 있다."
      ],
      "metadata": {
        "id": "dbnjqeh733Oy"
      }
    },
    {
      "cell_type": "code",
      "source": [
        "print(state['Population'].std()) # 표준편차"
      ],
      "metadata": {
        "colab": {
          "base_uri": "https://localhost:8080/"
        },
        "id": "sVgNf-j_2K9S",
        "outputId": "53ede3a9-08d0-459c-b1e8-4b20ee736891"
      },
      "execution_count": 23,
      "outputs": [
        {
          "output_type": "stream",
          "name": "stdout",
          "text": [
            "6848235.347401142\n"
          ]
        }
      ]
    },
    {
      "cell_type": "code",
      "source": [
        "print(state['Population'].quantile(0.75) - state['Population'].quantile(0.25)) # 사분위 범위 IQR"
      ],
      "metadata": {
        "colab": {
          "base_uri": "https://localhost:8080/"
        },
        "id": "qEiXxDfM5gbS",
        "outputId": "20c9ebe1-df33-4bf6-86a0-d0c3ebafd971"
      },
      "execution_count": 24,
      "outputs": [
        {
          "output_type": "stream",
          "name": "stdout",
          "text": [
            "4847308.0\n"
          ]
        }
      ]
    },
    {
      "cell_type": "code",
      "source": [
        "print(robust.scale.mad(state['Population'])) # 절대중위 편차 MAD\n",
        "print(abs(state['Population'] - state['Population'].median()).median() / 0.6744897501960817)"
      ],
      "metadata": {
        "colab": {
          "base_uri": "https://localhost:8080/"
        },
        "id": "bE1NF0vX5sv-",
        "outputId": "dcf6b03a-a726-4456-e20d-10dde203b1e6"
      },
      "execution_count": 25,
      "outputs": [
        {
          "output_type": "stream",
          "name": "stdout",
          "text": [
            "3849876.1459979336\n",
            "3849876.1459979336\n"
          ]
        }
      ]
    },
    {
      "cell_type": "markdown",
      "source": [
        "**변이 추정**\n",
        "\n",
        "- 분산과 표준편차는 가장 보편적으로 널리 사용되는 변이 측정 방법이다. 이들 모두 특잇값에 민감하다.\n",
        "- 중간값과 백분위수(분위수)로부터 평균절대편차와 중간값의 중위절대편차를 구하는 것이 좀 더 로버스트하다."
      ],
      "metadata": {
        "id": "SDIAu2rG6eci"
      }
    },
    {
      "cell_type": "code",
      "source": [
        "print(state['Murder.Rate'].quantile([0.05, 0.25, 0.5, 0.75, 0.95]))"
      ],
      "metadata": {
        "id": "SjEUdNvF6CD-",
        "colab": {
          "base_uri": "https://localhost:8080/"
        },
        "outputId": "35b2fb2c-6ff4-4450-dc87-cd50284542a7"
      },
      "execution_count": 27,
      "outputs": [
        {
          "output_type": "stream",
          "name": "stdout",
          "text": [
            "0.05    1.600\n",
            "0.25    2.425\n",
            "0.50    4.000\n",
            "0.75    5.550\n",
            "0.95    6.510\n",
            "Name: Murder.Rate, dtype: float64\n"
          ]
        }
      ]
    },
    {
      "cell_type": "code",
      "source": [
        "percentates = [0.05, 0.25, 0.5, 0.75, 0.95]\n",
        "df = pd.DataFrame(state['Murder.Rate'].quantile(percentates))\n",
        "df.index = [f'{p*100}%' for p in percentates]\n",
        "print(df.transpose())"
      ],
      "metadata": {
        "colab": {
          "base_uri": "https://localhost:8080/"
        },
        "id": "rc0p4Mms-biN",
        "outputId": "f25ab0bc-d167-428a-f6ce-7cd38c4d61f7"
      },
      "execution_count": 28,
      "outputs": [
        {
          "output_type": "stream",
          "name": "stdout",
          "text": [
            "             5.0%  25.0%  50.0%  75.0%  95.0%\n",
            "Murder.Rate   1.6  2.425    4.0   5.55   6.51\n"
          ]
        }
      ]
    },
    {
      "cell_type": "code",
      "source": [
        "ax = (state['Population']/1_000_000).plot.box(figsize=(3,4)) # 꿀팁!!\n",
        "ax.set_ylabel(\"Population (millions)\")\n",
        "\n",
        "plt.tight_layout()\n",
        "plt.show()"
      ],
      "metadata": {
        "colab": {
          "base_uri": "https://localhost:8080/",
          "height": 407
        },
        "id": "wMiu2RwI-slN",
        "outputId": "ba5563fe-a89a-43a1-a10d-a052865e12bd"
      },
      "execution_count": 29,
      "outputs": [
        {
          "output_type": "display_data",
          "data": {
            "text/plain": [
              "<Figure size 300x400 with 1 Axes>"
            ],
            "image/png": "[encoded data removed]"
          },
          "metadata": {}
        }
      ]
    },
    {
      "cell_type": "code",
      "source": [
        "binnedPopulation = pd.cut(state['Population'], 10)\n",
        "print(binnedPopulation.value_counts())"
      ],
      "metadata": {
        "id": "IlkUjUrz_Va8",
        "colab": {
          "base_uri": "https://localhost:8080/"
        },
        "outputId": "2fee3183-45db-40cc-d2f4-04a2cbf2e2c8"
      },
      "execution_count": 31,
      "outputs": [
        {
          "output_type": "stream",
          "name": "stdout",
          "text": [
            "Population\n",
            "(526935.67, 4232659.0]      24\n",
            "(4232659.0, 7901692.0]      14\n",
            "(7901692.0, 11570725.0]      6\n",
            "(11570725.0, 15239758.0]     2\n",
            "(15239758.0, 18908791.0]     1\n",
            "(18908791.0, 22577824.0]     1\n",
            "(22577824.0, 26246857.0]     1\n",
            "(33584923.0, 37253956.0]     1\n",
            "(26246857.0, 29915890.0]     0\n",
            "(29915890.0, 33584923.0]     0\n",
            "Name: count, dtype: int64\n"
          ]
        }
      ]
    },
    {
      "cell_type": "markdown",
      "source": [
        "도수분포표와 백분위수 모두 구간을 나눠서 데이터를 살펴보는 접근 방법이다. 일반적으로, 사분위수와 십분위수는 각 구간에 같은 수의 데이터가 포함되도록, 즉 서로 크기가 다르게 구간을 나누는 것이라고 할 수 있다. 반면에 도수분포표는 구간의 크기가 같도록, 즉 구간 안에 다른 개수의 데이터가 오도록 한다고 볼 수 있다."
      ],
      "metadata": {
        "id": "OqzRCa2jFX2Q"
      }
    },
    {
      "cell_type": "code",
      "source": [
        "ax = (state['Population'] / 1_000_000).plot.hist(figsize=(4,4))\n",
        "ax.set_xlabel('Population(millions)')"
      ],
      "metadata": {
        "colab": {
          "base_uri": "https://localhost:8080/",
          "height": 409
        },
        "id": "mtvF3PzVFDqy",
        "outputId": "8196d6cb-4b20-4b83-9648-21cce8ef7e51"
      },
      "execution_count": 34,
      "outputs": [
        {
          "output_type": "execute_result",
          "data": {
            "text/plain": [
              "Text(0.5, 0, 'Population(millions)')"
            ]
          },
          "metadata": {},
          "execution_count": 34
        },
        {
          "output_type": "display_data",
          "data": {
            "text/plain": [
              "<Figure size 400x400 with 1 Axes>"
            ],
            "image/png": "[encoded data removed]"
          },
          "metadata": {}
        }
      ]
    },
    {
      "cell_type": "markdown",
      "source": [
        "**통계학에서 말하는 모멘트**\n",
        "\n",
        "통계학 이론에서, 위치와 변이는 각각 분포의 일치 및 이차 모멘트(혹은 적률)라고 한다. 삼차, 사차 모멘트는 각각 왜도, 첨도라고 부른다."
      ],
      "metadata": {
        "id": "-3lgUOLjGTT4"
      }
    },
    {
      "cell_type": "code",
      "source": [
        "ax = state['Murder.Rate'].plot.hist(density=True, xlim=[0,12], bins=range(1,12))\n",
        "state['Murder.Rate'].plot.density(ax=ax)\n",
        "ax.set_xlabel('Murder Rate (per 100,000)')"
      ],
      "metadata": {
        "colab": {
          "base_uri": "https://localhost:8080/",
          "height": 467
        },
        "id": "xwH0OySlFqBz",
        "outputId": "2caf2ac7-8516-4a2e-ce02-d5757c20b998"
      },
      "execution_count": 37,
      "outputs": [
        {
          "output_type": "execute_result",
          "data": {
            "text/plain": [
              "Text(0.5, 0, 'Murder Rate (per 100,000)')"
            ]
          },
          "metadata": {},
          "execution_count": 37
        },
        {
          "output_type": "display_data",
          "data": {
            "text/plain": [
              "<Figure size 640x480 with 1 Axes>"
            ],
            "image/png": "[encoded data removed]"
          },
          "metadata": {}
        }
      ]
    },
    {
      "cell_type": "markdown",
      "source": [
        "- 도수 히스토그램은 y축에 횟수를 x축에 변수값들을 표시하고 한눈에 데이터의 분포를 볼 수 있다.\n",
        "- 도수분포표는 히스토그램에 보이는 횟수들을 표 형태로 나타낸 것이다.\n",
        "- 밀도 그림은 히스토그램의 부드러운 버전이라고 할 수 있다. 데이터로부터 이 그림을 얻기 위해서는 어떤 함수를 구해야 하는데 여러 가지 가능한 추정 방법이 있다."
      ],
      "metadata": {
        "id": "DbDmjWKOHGqW"
      }
    },
    {
      "cell_type": "code",
      "source": [
        "dfw = pd.read_csv(AIRPORT_DELAYS_CSV)\n",
        "print(100 * dfw / dfw.values.sum())"
      ],
      "metadata": {
        "colab": {
          "base_uri": "https://localhost:8080/"
        },
        "id": "m0Mk51nGIu4o",
        "outputId": "ff599884-5bea-40d3-fa9c-ed78c8e1baca"
      },
      "execution_count": 39,
      "outputs": [
        {
          "output_type": "stream",
          "name": "stdout",
          "text": [
            "     Carrier        ATC   Weather  Security    Inbound\n",
            "0  23.022989  30.400781  4.025214  0.122937  42.428079\n"
          ]
        }
      ]
    },
    {
      "cell_type": "code",
      "source": [
        "ax = dfw.transpose().plot.bar(figsize=(4,4), legend=False)\n",
        "ax.set_xlabel('Cause of delay')\n",
        "ax.set_ylabel('Count')"
      ],
      "metadata": {
        "colab": {
          "base_uri": "https://localhost:8080/",
          "height": 450
        },
        "id": "y2IPbfsNG5W-",
        "outputId": "fe7664aa-9a04-40f8-a712-bd0c4a0bd9e4"
      },
      "execution_count": 40,
      "outputs": [
        {
          "output_type": "execute_result",
          "data": {
            "text/plain": [
              "Text(0, 0.5, 'Count')"
            ]
          },
          "metadata": {},
          "execution_count": 40
        },
        {
          "output_type": "display_data",
          "data": {
            "text/plain": [
              "<Figure size 400x400 with 1 Axes>"
            ],
            "image/png": "[encoded data removed]"
          },
          "metadata": {}
        }
      ]
    },
    {
      "cell_type": "code",
      "source": [
        "sp500_sym = pd.read_csv(SP500_SECTORS_CSV)\n",
        "sp500_px = pd.read_csv(SP500_DATA_CSV, index_col=0)"
      ],
      "metadata": {
        "id": "wbu4QZtWInfy"
      },
      "execution_count": 55,
      "outputs": []
    },
    {
      "cell_type": "code",
      "source": [
        "etfs= sp500_px.loc[sp500_px.index > '2012-07-01',\n",
        "                   sp500_sym[sp500_sym['sector'] == 'etf']['symbol']]\n",
        "sns.heatmap(etfs.corr(), vmin=-1, vmax=1,\n",
        "            cmap=sns.diverging_palette(20, 220, as_cmap=True))"
      ],
      "metadata": {
        "colab": {
          "base_uri": "https://localhost:8080/",
          "height": 472
        },
        "id": "qOQ7v6udK7Se",
        "outputId": "16c7f27f-78fa-46bd-9460-7ab6001305a7"
      },
      "execution_count": 57,
      "outputs": [
        {
          "output_type": "execute_result",
          "data": {
            "text/plain": [
              "<Axes: >"
            ]
          },
          "metadata": {},
          "execution_count": 57
        },
        {
          "output_type": "display_data",
          "data": {
            "text/plain": [
              "<Figure size 640x480 with 2 Axes>"
            ],
            "image/png": "[encoded data removed]"
          },
          "metadata": {}
        }
      ]
    },
    {
      "cell_type": "markdown",
      "source": [
        "**상관관계를 추정하는 다른 방법**\n",
        "\n",
        "오래전부터 통계학자들은 스피어먼의 로나 켄들의 타우와 같은 다른 형태의 상관게수를 만들어냈다. 이들은 데이터의 순위를 기초로 하는 상관계수다. 값 자체보다 값의 순위를 이용하기 때문에 이러한 추정법은 특잇값에 좀 더 로버스트하며 비선형 관계도 다룰 수 있다. 하지만 데이터 과학자들은 일반적으로 피어슨 상관계수, 혹은 이것의 로버스트한 다른 버전들을 탐색 분석에 주로 사용한다. 순위 기반 추정법은 보통 데이터의 크기가 작고 어떤 특별한 가설검정이 필요할 때 주로 사용된다."
      ],
      "metadata": {
        "id": "aaZbz5xxLuJk"
      }
    },
    {
      "cell_type": "code",
      "source": [],
      "metadata": {
        "id": "H6gHpiQHLFOu"
      },
      "execution_count": null,
      "outputs": []
    }
  ]
}