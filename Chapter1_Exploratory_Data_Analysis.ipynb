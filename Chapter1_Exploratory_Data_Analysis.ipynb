{
  "nbformat": 4,
  "nbformat_minor": 0,
  "metadata": {
    "colab": {
      "provenance": [],
      "mount_file_id": "1e6Z5LbhkUm2USZu2Ri66IWdxcugEaHzM",
      "authorship_tag": "ABX9TyOEgkZg1/GJ43S6h2RykkK5",
      "include_colab_link": true
    },
    "kernelspec": {
      "name": "python3",
      "display_name": "Python 3"
    },
    "language_info": {
      "name": "python"
    }
  },
  "cells": [
    {
      "cell_type": "markdown",
      "metadata": {
        "id": "view-in-github",
        "colab_type": "text"
      },
      "source": [
        "<a href=\"https://colab.research.google.com/github/jangjung-coding/studyBook_practical_statics_for_datascientist/blob/main/Chapter1_Exploratory_Data_Analysis.ipynb\" target=\"_parent\"><img src=\"https://colab.research.google.com/assets/colab-badge.svg\" alt=\"Open In Colab\"/></a>"
      ]
    },
    {
      "cell_type": "markdown",
      "source": [
        "본 노트북은 'Practical Statistisc for Data Scientist'의 책 중 1장을 공부한 내용을 담고 있다."
      ],
      "metadata": {
        "id": "88i2THAwJkR4"
      }
    },
    {
      "cell_type": "markdown",
      "source": [
        "**용어 정리**\n",
        "- 수치형: 숫자를 이용해 표현할 수 있는 데이터\n",
        "- 연속형: 일정 범위 안에서 어떤 값이든 취할 수 있는 데이터(유의어: 구간형, 실수형, 수치형 데이터)\n",
        "- 이산: 횟수와 같은 정수 값만 취할 수 있는 데이터(유의어: 정수형, 회수 데이터)\n",
        "- 범주형: 가능한 범주 안의 값만을 취하는 데이터(유의어: 목록, 열거, 요인, 명목, 다항)\n",
        "- 이진: 두개의 값(0/1)만을 갖는 범주형 데이터의 특수한 경우(유의어: 이향적, 논리형, 지표, 불리언 데이터)\n",
        "- 순서형: 값들 사이에 분명한 순위가 있는 범주형 데이터(유의어: 정렬된 요인 데이터, 서수형)"
      ],
      "metadata": {
        "id": "WW4KsqtFJ4Mm"
      }
    },
    {
      "cell_type": "code",
      "source": [
        "!pip install wquantiles"
      ],
      "metadata": {
        "colab": {
          "base_uri": "https://localhost:8080/"
        },
        "id": "zm7wAOG6x-08",
        "outputId": "23a046b4-a8d7-4667-a50f-f8a5fe25b031"
      },
      "execution_count": null,
      "outputs": [
        {
          "output_type": "stream",
          "name": "stdout",
          "text": [
            "Collecting wquantiles\n",
            "  Downloading wquantiles-0.6-py3-none-any.whl (3.3 kB)\n",
            "Requirement already satisfied: numpy>=1.18 in /usr/local/lib/python3.10/dist-packages (from wquantiles) (1.25.2)\n",
            "Installing collected packages: wquantiles\n",
            "Successfully installed wquantiles-0.6\n"
          ]
        }
      ]
    },
    {
      "cell_type": "code",
      "source": [
        "# Import required Python packages\n",
        "from pathlib import Path\n",
        "\n",
        "import pandas as pd\n",
        "import numpy as np\n",
        "from scipy.stats import trim_mean\n",
        "from statsmodels import robust\n",
        "import wquantiles # 가중치가 있는 데이터의 분위수 계산\n",
        "\n",
        "import seaborn as sns\n",
        "import matplotlib.pyplot as plt"
      ],
      "metadata": {
        "id": "rpa41fMwxTzn"
      },
      "execution_count": null,
      "outputs": []
    },
    {
      "cell_type": "code",
      "source": [
        "try:\n",
        "    import common  # common 모듈을 임포트 시도\n",
        "    Data = common.dataDirectory()  # common 모듈의 dataDirectory 함수를 호출하여 Data 변수에 할당\n",
        "except ImportError:  # 만약 common 모듈이 없을 경우\n",
        "    from pathlib import Path  # pathlib 모듈에서 Path 클래스를 임포트\n",
        "    Data = Path().resolve() / 'data'  # 현재 디렉토리의 'data' 폴더 경로를 Data 변수에 할당"
      ],
      "metadata": {
        "id": "2mx5oVgaxzBi"
      },
      "execution_count": null,
      "outputs": []
    },
    {
      "cell_type": "code",
      "source": [
        "AIRLINE_STATS_CSV = Data / 'airline_stats.csv'\n",
        "KC_TAX_CSV = Data / 'kc_tax.csv.gz'\n",
        "LC_LOANS_CSV = Data / 'lc_loans.csv'\n",
        "AIRPORT_DELAYS_CSV = Data / 'dfw_airline.csv'\n",
        "SP500_Data_CSV = Data / 'sp500_DATA.csv.gz'\n",
        "SP500_SECTORS_CSV = Data / 'sp500_sectors.csv'\n",
        "STATE_CSV = Data / 'state.csv'"
      ],
      "metadata": {
        "id": "6pSVOdWNzEVp"
      },
      "execution_count": null,
      "outputs": []
    },
    {
      "cell_type": "markdown",
      "source": [
        "### Example: Location Esimates of Poulation and Murder Rates"
      ],
      "metadata": {
        "id": "SEBVIEWMxKIq"
      }
    },
    {
      "cell_type": "code",
      "execution_count": null,
      "metadata": {
        "id": "ewRgS0MPJWNG",
        "colab": {
          "base_uri": "https://localhost:8080/"
        },
        "outputId": "9df79668-964e-42eb-92f4-c43efa795484"
      },
      "outputs": [
        {
          "output_type": "stream",
          "name": "stdout",
          "text": [
            "         State  Population  Murder.Rate Abbreviation\n",
            "0      Alabama     4779736          5.7           AL\n",
            "1       Alaska      710231          5.6           AK\n",
            "2      Arizona     6392017          4.7           AZ\n",
            "3     Arkansas     2915918          5.6           AR\n",
            "4   California    37253956          4.4           CA\n",
            "5     Colorado     5029196          2.8           CO\n",
            "6  Connecticut     3574097          2.4           CT\n",
            "7     Delaware      897934          5.8           DE\n"
          ]
        }
      ],
      "source": [
        "state = pd.read_csv(STATE_CSV)\n",
        "print(state.head(8))"
      ]
    },
    {
      "cell_type": "code",
      "source": [
        "print(state['Population'].mean())\n",
        "print(state['Population'].median())\n",
        "print(trim_mean(state['Population'], 0.1)) # 절사평균(trim=0.1은 각 끝에서 10%를 제외한다)"
      ],
      "metadata": {
        "colab": {
          "base_uri": "https://localhost:8080/"
        },
        "id": "_faX3AVY0hPf",
        "outputId": "8b5faf11-d963-4552-fb65-f616099fbb67"
      },
      "execution_count": null,
      "outputs": [
        {
          "output_type": "stream",
          "name": "stdout",
          "text": [
            "6162876.3\n",
            "4436369.5\n",
            "4783697.125\n"
          ]
        }
      ]
    },
    {
      "cell_type": "code",
      "source": [
        "print(state['Murder.Rate'].mean())"
      ],
      "metadata": {
        "colab": {
          "base_uri": "https://localhost:8080/"
        },
        "id": "40Tjc40u1b7c",
        "outputId": "c6c4c350-a6cb-4bf0-9745-b70628a8a9c7"
      },
      "execution_count": null,
      "outputs": [
        {
          "output_type": "stream",
          "name": "stdout",
          "text": [
            "4.066\n"
          ]
        }
      ]
    },
    {
      "cell_type": "code",
      "source": [
        "print(np.average(state['Murder.Rate'], weights=state['Population'])) # 가중평균"
      ],
      "metadata": {
        "colab": {
          "base_uri": "https://localhost:8080/"
        },
        "id": "GmX8hLt42CWN",
        "outputId": "cbb3b890-c80d-4914-b88f-1b13cd7df9ab"
      },
      "execution_count": null,
      "outputs": [
        {
          "output_type": "stream",
          "name": "stdout",
          "text": [
            "4.445833981123393\n"
          ]
        }
      ]
    },
    {
      "cell_type": "markdown",
      "source": [
        "**위치 추정**\n",
        "- 가장 기본적인 위치 추정 기법은 평균이다. 하지만 극단값(특잇값)에 민감할 수 있다.\n",
        "- 중간값, 절사평균과 같은 다른 방법들이 특잇값이나 이상 데이터에 덜 민감하므로 좀 더 로버스트하다."
      ],
      "metadata": {
        "id": "owpZJ1l32ZaI"
      }
    },
    {
      "cell_type": "markdown",
      "source": [
        "**자유도 n 아니면 n-1?**\n",
        "\n",
        "분산 수식에 n을 분모로 사용한다면, 모집단의 분산과 표준편차의 참값을 과소평가하게 된다. 이를 편향이라 한다. 하지만, 만약 n대신 n-1로 나눈다면, 이 분산은 비편향 추정이 된다. 왜 n을 사용하는게 편향 주청이 되는지를 설명하려면, 추정값을 계산할 때 제약 조건의 개수를 의미하는 자유도에 대해 알아야 한다. 이 경우, 표준편차는 표본의 평균에 따른다는 하나의 제약 조건을 가지고 있기 때문에 n-1의 자유도를 갖는다. 대부분의 경우 데이터 과학자들은 자유도에 크게 신경 쓰지 않아도 되지만 때로 이 개념이 중요할 때도 있다."
      ],
      "metadata": {
        "id": "dbnjqeh733Oy"
      }
    },
    {
      "cell_type": "code",
      "source": [
        "print(state['Population'].std()) # 표준편차"
      ],
      "metadata": {
        "colab": {
          "base_uri": "https://localhost:8080/"
        },
        "id": "sVgNf-j_2K9S",
        "outputId": "197c173a-648a-409f-d7b7-e96d4b3d0bc1"
      },
      "execution_count": null,
      "outputs": [
        {
          "output_type": "stream",
          "name": "stdout",
          "text": [
            "6848235.347401142\n"
          ]
        }
      ]
    },
    {
      "cell_type": "code",
      "source": [
        "print(state['Population'].quantile(0.75) - state['Population'].quantile(0.25)) # 사분위 범위 IQR"
      ],
      "metadata": {
        "colab": {
          "base_uri": "https://localhost:8080/"
        },
        "id": "qEiXxDfM5gbS",
        "outputId": "f34878fe-286e-45e2-a445-a7b2a64675d7"
      },
      "execution_count": null,
      "outputs": [
        {
          "output_type": "stream",
          "name": "stdout",
          "text": [
            "4847308.0\n"
          ]
        }
      ]
    },
    {
      "cell_type": "code",
      "source": [
        "print(robust.scale.mad(state['Population'])) # 절대중위 편차 MAD\n",
        "print(abs(state['Population'] - state['Population'].median()).median() / 0.6744897501960817)"
      ],
      "metadata": {
        "colab": {
          "base_uri": "https://localhost:8080/"
        },
        "id": "bE1NF0vX5sv-",
        "outputId": "df2d9a99-8368-4f74-a5cc-2a9d85c809ba"
      },
      "execution_count": null,
      "outputs": [
        {
          "output_type": "stream",
          "name": "stdout",
          "text": [
            "3849876.1459979336\n",
            "3849876.1459979336\n"
          ]
        }
      ]
    },
    {
      "cell_type": "markdown",
      "source": [
        "**변이 추정**\n",
        "\n",
        "- 분산과 표준편차는 가장 보편적으로 널리 사용되는 변이 측정 방법이다. 이들 모두 특잇값에 민감하다.\n",
        "- 중간값과 백분위수(분위수)로부터 평균절대편차와 중간값의 중위절대편차를 구하는 것이 좀 더 로버스트하다."
      ],
      "metadata": {
        "id": "SDIAu2rG6eci"
      }
    },
    {
      "cell_type": "code",
      "source": [
        "print(state['Murder.Rate'].quantile([0.05, 0.25, 0.5, 0.75, 0.95]))"
      ],
      "metadata": {
        "id": "SjEUdNvF6CD-",
        "colab": {
          "base_uri": "https://localhost:8080/"
        },
        "outputId": "bae5e42d-0bf8-4773-c81d-16821c600348"
      },
      "execution_count": 36,
      "outputs": [
        {
          "output_type": "stream",
          "name": "stdout",
          "text": [
            "0.05    1.600\n",
            "0.25    2.425\n",
            "0.50    4.000\n",
            "0.75    5.550\n",
            "0.95    6.510\n",
            "Name: Murder.Rate, dtype: float64\n"
          ]
        }
      ]
    },
    {
      "cell_type": "code",
      "source": [
        "percentates = [0.05, 0.25, 0.5, 0.75, 0.95]\n",
        "df = pd.DataFrame(state['Murder.Rate'].quantile(percentates))\n",
        "df.index = [f'{p*100}%' for p in percentates]\n",
        "print(df.transpose())"
      ],
      "metadata": {
        "colab": {
          "base_uri": "https://localhost:8080/"
        },
        "id": "rc0p4Mms-biN",
        "outputId": "26c7b667-99f7-49c8-fe93-fd46e71a069f"
      },
      "execution_count": 37,
      "outputs": [
        {
          "output_type": "stream",
          "name": "stdout",
          "text": [
            "             5.0%  25.0%  50.0%  75.0%  95.0%\n",
            "Murder.Rate   1.6  2.425    4.0   5.55   6.51\n"
          ]
        }
      ]
    },
    {
      "cell_type": "code",
      "source": [
        "ax = (state['Population']/1_000_000).plot.box(figsize=(3,4)) # 꿀팁!!\n",
        "ax.set_ylabel(\"Population (millions)\")\n",
        "\n",
        "plt.tight_layout()\n",
        "plt.show()"
      ],
      "metadata": {
        "colab": {
          "base_uri": "https://localhost:8080/",
          "height": 407
        },
        "id": "wMiu2RwI-slN",
        "outputId": "d118100a-b8bd-4275-e360-3ceba683326c"
      },
      "execution_count": 42,
      "outputs": [
        {
          "output_type": "display_data",
          "data": {
            "text/plain": [
              "<Figure size 300x400 with 1 Axes>"
            ],
            "image/png": "[encoded data removed]"
          },
          "metadata": {}
        }
      ]
    },
    {
      "cell_type": "code",
      "source": [],
      "metadata": {
        "id": "IlkUjUrz_Va8"
      },
      "execution_count": null,
      "outputs": []
    }
  ]
}